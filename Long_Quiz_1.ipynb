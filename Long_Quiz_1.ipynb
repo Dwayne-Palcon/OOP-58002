{
  "nbformat": 4,
  "nbformat_minor": 0,
  "metadata": {
    "colab": {
      "name": "Long Quiz 1",
      "provenance": [],
      "authorship_tag": "ABX9TyMnkDONedAOGdjxg1xm+NwM",
      "include_colab_link": true
    },
    "kernelspec": {
      "name": "python3",
      "display_name": "Python 3"
    },
    "language_info": {
      "name": "python"
    }
  },
  "cells": [
    {
      "cell_type": "markdown",
      "metadata": {
        "id": "view-in-github",
        "colab_type": "text"
      },
      "source": [
        "<a href=\"https://colab.research.google.com/github/pinklog/OOP-58002/blob/main/Long_Quiz_1.ipynb\" target=\"_parent\"><img src=\"https://colab.research.google.com/assets/colab-badge.svg\" alt=\"Open In Colab\"/></a>"
      ]
    },
    {
      "cell_type": "markdown",
      "source": [
        ""
      ],
      "metadata": {
        "id": "rwLdG9DdEpto"
      }
    },
    {
      "cell_type": "code",
      "source": [
        "celsius_1 = float(input(\"Enter the Celsius: \" ))  \n",
        "Fahrenheit_1 = (celsius_1 * 1.8) + 32   \n",
        "print('The %.2f degree Celsius is equal to: %.2f Fahrenheit'  \n",
        "      %(celsius_1, Fahrenheit_1))  "
      ],
      "metadata": {
        "colab": {
          "base_uri": "https://localhost:8080/"
        },
        "id": "rlq4rqckEohz",
        "outputId": "6c2b6fb2-2b24-4ce0-d2b6-3e06ed8df5f5"
      },
      "execution_count": 11,
      "outputs": [
        {
          "output_type": "stream",
          "name": "stdout",
          "text": [
            "Enter the Celsius: 55\n",
            "The 55.00 degree Celsius is equal to: 131.00 Fahrenheit\n"
          ]
        }
      ]
    },
    {
      "cell_type": "code",
      "source": [
        "class Temperature:\n",
        "    temp = 0\n",
        "\n",
        "    def __init__(self, temp):\n",
        "        self.temp = temp\n",
        "    def convert_to_fahrenheit(self):\n",
        "        result = float((9 * self.temp) / 5 + 32)\n",
        "        return result\n",
        "    def convert_to_celsius(self):\n",
        "        result = float((self.temp - 32) * 5 / 9)\n",
        "        return result\n",
        "\n",
        "input_temp = float(input(\"Enter The temperature in celsius: \"))\n",
        "temp1 = Temperature(input_temp)\n",
        "print(temp1.convert_to_fahrenheit())\n",
        "\n",
        "input_temp = float(input(\"Enter The temperature in fahrenheit: \"))\n",
        "temp1 = Temperature(input_temp)\n",
        "print(temp1.convert_to_celsius())"
      ],
      "metadata": {
        "colab": {
          "base_uri": "https://localhost:8080/"
        },
        "id": "wP0m85RUHPvA",
        "outputId": "dfb7cfbf-deba-4780-f0dc-f545dd7ccb9f"
      },
      "execution_count": 12,
      "outputs": [
        {
          "output_type": "stream",
          "name": "stdout",
          "text": [
            "Enter The temperature in celsius: 55\n",
            "131.0\n",
            "Enter The temperature in fahrenheit: 55\n",
            "12.777777777777779\n"
          ]
        }
      ]
    }
  ]
}