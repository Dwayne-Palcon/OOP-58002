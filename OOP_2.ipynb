{
  "nbformat": 4,
  "nbformat_minor": 0,
  "metadata": {
    "colab": {
      "name": "OOP-2.ipynb",
      "provenance": [],
      "authorship_tag": "ABX9TyOTS+7CM7HqDvP6YPgKtO6c",
      "include_colab_link": true
    },
    "kernelspec": {
      "name": "python3",
      "display_name": "Python 3"
    },
    "language_info": {
      "name": "python"
    }
  },
  "cells": [
    {
      "cell_type": "markdown",
      "metadata": {
        "id": "view-in-github",
        "colab_type": "text"
      },
      "source": [
        "<a href=\"https://colab.research.google.com/github/pinklog/OOP-58002/blob/main/OOP_2.ipynb\" target=\"_parent\"><img src=\"https://colab.research.google.com/assets/colab-badge.svg\" alt=\"Open In Colab\"/></a>"
      ]
    },
    {
      "cell_type": "markdown",
      "source": [
        "Classes with multiple objects"
      ],
      "metadata": {
        "id": "Q6oQwv1zrsNp"
      }
    },
    {
      "cell_type": "code",
      "execution_count": 1,
      "metadata": {
        "colab": {
          "base_uri": "https://localhost:8080/"
        },
        "id": "cf3Y_tNmrm_Q",
        "outputId": "a3e098f2-3269-48d3-f6ab-7f2e960fb3f3"
      },
      "outputs": [
        {
          "output_type": "stream",
          "name": "stdout",
          "text": [
            "Griffon Vulture flies above clouds \n",
            "Common Crane flies above clouds \n",
            "Emu is the national bird of the Philippines\n"
          ]
        }
      ],
      "source": [
        "class Birds:\n",
        "  def __init__(self,bird_name):\n",
        "    self.bird_name= bird_name\n",
        "\n",
        "  def flying_birds(self):\n",
        "    print(f\"{self.bird_name} flies above clouds \")\n",
        "\n",
        "  def non_flying_birds(self):\n",
        "    print(f\"{self.bird_name} is the national bird of the Philippines\")\n",
        "\n",
        "vulture = Birds(\"Griffon Vulture\")\n",
        "crane = Birds(\"Common Crane\")\n",
        "emu = Birds(\"Emu\")\n",
        "\n",
        "vulture.flying_birds()\n",
        "crane.flying_birds()\n",
        "emu.non_flying_birds()"
      ]
    },
    {
      "cell_type": "markdown",
      "source": [
        "Encapsulation\n"
      ],
      "metadata": {
        "id": "Zbp9KqJir0k-"
      }
    },
    {
      "cell_type": "code",
      "source": [
        "class foo:\n",
        "  def __init__(self,a,b):\n",
        "    self.__a = a\n",
        "    self.__b = b\n",
        "  def add(self):\n",
        "    return self.__a + self.__b\n",
        "  def sub(self):\n",
        "    return self.__a - self.__b\n",
        "\n",
        "foo_object = foo(3,4)\n",
        "\n",
        "print(foo_object.add())\n",
        "print(foo_object.sub())\n",
        "\n",
        "foo_object.__b = 5\n",
        "foo_object.__a = 7\n",
        "\n",
        "print(foo_object.add())\n",
        "print(foo_object.sub())"
      ],
      "metadata": {
        "colab": {
          "base_uri": "https://localhost:8080/"
        },
        "id": "frvPnPv6r23t",
        "outputId": "506061b7-d0b1-4383-c440-8938c6ae2c28"
      },
      "execution_count": 2,
      "outputs": [
        {
          "output_type": "stream",
          "name": "stdout",
          "text": [
            "7\n",
            "-1\n",
            "7\n",
            "-1\n"
          ]
        }
      ]
    },
    {
      "cell_type": "code",
      "source": [
        "Inheritance"
      ],
      "metadata": {
        "id": "id6LDGX2r4hJ"
      },
      "execution_count": null,
      "outputs": []
    },
    {
      "cell_type": "code",
      "source": [
        "class Person:\n",
        "  def __init__(self,firstname,surname):\n",
        "    self.firstname = firstname\n",
        "    self. surname = surname\n",
        "  \n",
        "  def printname(self):\n",
        "    print(self.firstname,self.surname)\n",
        "\n",
        "person = Person(\"Dwayne Marel\",\"Palcon\")\n",
        "person.printname()\n",
        "\n",
        "class Student(Person):\n",
        "  pass\n",
        "\n",
        "person = Student(\"Mam\",\"Sayo\")\n",
        "person.printname()"
      ],
      "metadata": {
        "colab": {
          "base_uri": "https://localhost:8080/"
        },
        "id": "-jd_JEV1r86c",
        "outputId": "b13073c8-fd4b-489d-8d91-ffc01ac392c3"
      },
      "execution_count": 4,
      "outputs": [
        {
          "output_type": "stream",
          "name": "stdout",
          "text": [
            "Dwayne Marel Palcon\n",
            "Mam Sayo\n"
          ]
        }
      ]
    },
    {
      "cell_type": "markdown",
      "source": [
        "Polymorphism"
      ],
      "metadata": {
        "id": "RuhOBmQar-SH"
      }
    },
    {
      "cell_type": "code",
      "source": [
        "class RegularPolygon:\n",
        "  def __init__(self,side):\n",
        "    self.side = side\n",
        "class Square(RegularPolygon):\n",
        "    def area(self):\n",
        "      return self.side*self.side\n",
        "class EquilateralTriangle(RegularPolygon):\n",
        "  def area(self):\n",
        "    return self.side*self.side*0.433\n",
        "\n",
        "x = Square(4)\n",
        "y = EquilateralTriangle(3)\n",
        "\n",
        "print(x.area())\n",
        "print(y.area())"
      ],
      "metadata": {
        "colab": {
          "base_uri": "https://localhost:8080/"
        },
        "id": "NtwkNHPQsT_A",
        "outputId": "1bfc81b0-7b4f-4412-c08b-cdef9e2ce58b"
      },
      "execution_count": 5,
      "outputs": [
        {
          "output_type": "stream",
          "name": "stdout",
          "text": [
            "16\n",
            "3.897\n"
          ]
        }
      ]
    },
    {
      "cell_type": "markdown",
      "source": [
        "Application\n"
      ],
      "metadata": {
        "id": "rM9OsXOHsXKX"
      }
    },
    {
      "cell_type": "markdown",
      "source": [
        "1.) Create a Python Program that displays the name of three students \n",
        "(Student 1, Student 2, Student 3) and their term grades\n",
        "\n",
        "2.) Copy the link of your activity \"OOP Concepts 2\" from your repository named \"OOP 58002\" \n",
        "\n",
        "3.) Create a class name Person and Attributes - std1, std2, std3,pre,mid,fin\n",
        "\n",
        "4.) Compute the Average of each term grade using Grade() method\n",
        "\n",
        "5.) Information about student's grades must be hidden from others\n"
      ],
      "metadata": {
        "id": "Nj4HNWQ8shOq"
      }
    },
    {
      "cell_type": "code",
      "source": [
        "class Person:\n",
        "  def __init__(self,std1,std2,std3,pre,mid,fin):\n",
        "    self.std1 = std1\n",
        "    self.std2 = std2\n",
        "    self.std3 = std3\n",
        "    self.pre = pre\n",
        "    self.mid = mid\n",
        "    self.fin = fin\n",
        "\n",
        "Student1 = { \"name\":\"Student 1\",\n",
        "\t\t\"Prelim\" : [80],\n",
        "\t\t\"Midterm\" : [85],\n",
        "\t\t\"Final\" : [90]\n",
        "\t}\n",
        "\t\t\n",
        "Student2 = { \"name\":\"Student 2\",\n",
        "\t\t\"Prelim\" : [83],\n",
        "\t\t\"Midterm\" : [87],\n",
        "\t\t\"Final\" : [85]\n",
        "\t\t}\n",
        "\n",
        "Student3 = { \"name\" : \"Student 3\",\n",
        "\t\t\"Prelim\" : [90],\n",
        "\t\t\"Midterm\" : [95],\n",
        "\t\t\"Final\" : [95]\n",
        "\t\t}\n",
        "\n",
        "def get_average(marks):\n",
        "\ttotal_sum = sum(marks)\n",
        "\ttotal_sum = float(total_sum)\n",
        "\treturn total_sum / len(marks)\n",
        "\t\n",
        " \n",
        "def calculate_total_average(students):\n",
        "\tPrelim = get_average(students[\"Prelim\"])\n",
        "\tMidterm = get_average(students[\"Midterm\"])\n",
        "\tFinal = get_average(students[\"Final\"])\n",
        "\treturn (0.3 * Prelim + 0.3 * Midterm + 0.4 * Final)\n",
        "\n",
        "students = [Student1, Student2, Student3]\n",
        "\n",
        "for i in students :\n",
        "  print(i[\"name\"])\n",
        "  print(\"  V  \")\n",
        "  print(\"Prelim Marks of %s is : %s \" %(i[\"name\"],\n",
        "    calculate_total_average(i)))\n",
        "\n",
        "for i in students :\n",
        "  print(i[\"name\"])\n",
        "  print(\"  V  \")\n",
        "  print(\"Midterm Marks of %s is : %s \" %(i[\"name\"],\n",
        "    calculate_total_average(i)))\n",
        "\n",
        "for i in students :\n",
        "  print(i[\"name\"])\n",
        "  print(\"  V  \")\n",
        "  print(\"Final Marks of %s is : %s \" %(i[\"name\"],\n",
        "    calculate_total_average(i)))"
      ],
      "metadata": {
        "colab": {
          "base_uri": "https://localhost:8080/"
        },
        "id": "jyW9w2vEsti4",
        "outputId": "9b176e4d-ab23-41e5-a326-350ebd8d0e85"
      },
      "execution_count": 12,
      "outputs": [
        {
          "output_type": "stream",
          "name": "stdout",
          "text": [
            "Student 1\n",
            "  V  \n",
            "Prelim Marks of Student 1 is : 85.5 \n",
            "Student 2\n",
            "  V  \n",
            "Prelim Marks of Student 2 is : 85.0 \n",
            "Student 3\n",
            "  V  \n",
            "Prelim Marks of Student 3 is : 93.5 \n",
            "Student 1\n",
            "  V  \n",
            "Midterm Marks of Student 1 is : 85.5 \n",
            "Student 2\n",
            "  V  \n",
            "Midterm Marks of Student 2 is : 85.0 \n",
            "Student 3\n",
            "  V  \n",
            "Midterm Marks of Student 3 is : 93.5 \n",
            "Student 1\n",
            "  V  \n",
            "Final Marks of Student 1 is : 85.5 \n",
            "Student 2\n",
            "  V  \n",
            "Final Marks of Student 2 is : 85.0 \n",
            "Student 3\n",
            "  V  \n",
            "Final Marks of Student 3 is : 93.5 \n"
          ]
        }
      ]
    }
  ]
}