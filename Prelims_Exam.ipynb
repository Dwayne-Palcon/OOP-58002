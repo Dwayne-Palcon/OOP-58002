{
  "nbformat": 4,
  "nbformat_minor": 0,
  "metadata": {
    "colab": {
      "name": "Prelims Exam.ipynb",
      "provenance": [],
      "authorship_tag": "ABX9TyMoN9eQk3qSqxnqKShyolMB",
      "include_colab_link": true
    },
    "kernelspec": {
      "name": "python3",
      "display_name": "Python 3"
    },
    "language_info": {
      "name": "python"
    }
  },
  "cells": [
    {
      "cell_type": "markdown",
      "metadata": {
        "id": "view-in-github",
        "colab_type": "text"
      },
      "source": [
        "<a href=\"https://colab.research.google.com/github/pinklog/OOP-58002/blob/main/Prelims_Exam.ipynb\" target=\"_parent\"><img src=\"https://colab.research.google.com/assets/colab-badge.svg\" alt=\"Open In Colab\"/></a>"
      ]
    },
    {
      "cell_type": "code",
      "execution_count": 1,
      "metadata": {
        "colab": {
          "base_uri": "https://localhost:8080/"
        },
        "id": "FkcYj621GhaD",
        "outputId": "834b37e0-c510-41ae-b9ae-a8694f74e205"
      },
      "outputs": [
        {
          "output_type": "stream",
          "name": "stdout",
          "text": [
            "sum = 210\n",
            "Average =  10.5\n"
          ]
        }
      ],
      "source": [
        "n = 20\n",
        "\n",
        "total_numbers = n\n",
        "\n",
        "sum = 0\n",
        "\n",
        "while n >= 0:\n",
        "\n",
        "  sum += n\n",
        "\n",
        "  n -= 1\n",
        "\n",
        "print(\"sum =\", sum)\n",
        "\n",
        "\n",
        "\n",
        "average = sum / total_numbers\n",
        "\n",
        "print(\"Average = \", average)"
      ]
    },
    {
      "cell_type": "code",
      "source": [
        "class Person:\n",
        "  def __init__(self,student,number,age,school,course):\n",
        "    self.student = student\n",
        "    self.number = number\n",
        "    self.age = age\n",
        "    self.school = school\n",
        "    self.course = course\n",
        "  \n",
        "  def myFunction(self):\n",
        "    print(\"Hello! my name is\",self.student,\"I'm currently\",self.age, \"my student ID number is\",self.number, \"and proudly studying in\", self.school,\n",
        "          \"and I am taking the course of\", self.course)\n",
        "\n",
        "p1= Person(\"Palcon, Dwayne Marel C.\", 202115916, 19, \"Adamson University\", \"Computer Engineering\")\n",
        "p1.myFunction()"
      ],
      "metadata": {
        "colab": {
          "base_uri": "https://localhost:8080/"
        },
        "id": "giyAobcnJqDB",
        "outputId": "1de18ea9-23f4-4ebb-fecc-6fb1404184cc"
      },
      "execution_count": 19,
      "outputs": [
        {
          "output_type": "stream",
          "name": "stdout",
          "text": [
            "Hello! my name is Palcon, Dwayne Marel C. I'm currently 19 my student ID number is 202115916 and proudly studying in Adamson University and I am taking the course of Computer Engineering\n"
          ]
        }
      ]
    }
  ]
}